{
 "cells": [
  {
   "cell_type": "code",
   "execution_count": null,
   "id": "58f3d789",
   "metadata": {},
   "outputs": [],
   "source": [
    "import duckdb\n",
    "import pandas as pd\n",
    "import os\n",
    "from datetime import datetime\n"
   ]
  },
  {
   "cell_type": "code",
   "execution_count": null,
   "id": "aeea3c41",
   "metadata": {},
   "outputs": [],
   "source": [
    "con = duckdb.connect(database='dados_duckdb.db', read_only=False)"
   ]
  },
  {
   "cell_type": "code",
   "execution_count": null,
   "id": "1ce96b48",
   "metadata": {},
   "outputs": [],
   "source": [
    "arquivo = 'z0019_2.csv'\n",
    "data_ingestao = datetime.now()\n",
    "df = pd.read_csv(f'../landing/{arquivo}', sep=';')\n",
    "df['nome_arquivo'] = arquivo\n",
    "df['data_ingestao'] = data_ingestao\n",
    "df.head()"
   ]
  },
  {
   "cell_type": "code",
   "execution_count": null,
   "id": "3337d0eb",
   "metadata": {},
   "outputs": [],
   "source": [
    "con.execute(\"\"\"\n",
    "    CREATE TABLE IF NOT EXISTS bronze_z0019 (\n",
    "        NATBR VARCHAR,\n",
    "        MAKTX VARCHAR,\n",
    "        WERKS VARCHAR,\n",
    "        MAINS VARCHAR,\n",
    "        LABST VARCHAR,\n",
    "        nome_arquivo VARCHAR,\n",
    "        data_ingestao TIMESTAMP\n",
    "    )\n",
    "\"\"\")"
   ]
  },
  {
   "cell_type": "code",
   "execution_count": null,
   "id": "69f7387f",
   "metadata": {},
   "outputs": [],
   "source": [
    "con.execute(\"\"\"\n",
    "    INSERT INTO bronze_z0019\n",
    "    SELECT * FROM df\n",
    "\"\"\")"
   ]
  },
  {
   "cell_type": "code",
   "execution_count": null,
   "id": "27173cc6",
   "metadata": {},
   "outputs": [],
   "source": [
    "resultado = con.execute(\"\"\"\n",
    "    SELECT * FROM bronze_z0019\n",
    "\"\"\").fetchdf()\n",
    "resultado.head()"
   ]
  },
  {
   "cell_type": "code",
   "execution_count": null,
   "id": "6608d58f",
   "metadata": {},
   "outputs": [],
   "source": [
    "con.close()"
   ]
  }
 ],
 "metadata": {
  "kernelspec": {
   "display_name": "base",
   "language": "python",
   "name": "python3"
  },
  "language_info": {
   "codemirror_mode": {
    "name": "ipython",
    "version": 3
   },
   "file_extension": ".py",
   "mimetype": "text/x-python",
   "name": "python",
   "nbconvert_exporter": "python",
   "pygments_lexer": "ipython3",
   "version": "3.12.7"
  }
 },
 "nbformat": 4,
 "nbformat_minor": 5
}
