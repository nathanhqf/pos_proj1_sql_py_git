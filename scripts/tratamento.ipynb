{
 "cells": [
  {
   "cell_type": "code",
   "execution_count": null,
   "id": "f2b95433",
   "metadata": {},
   "outputs": [],
   "source": [
    "import duckdb"
   ]
  },
  {
   "cell_type": "code",
   "execution_count": null,
   "id": "35638824",
   "metadata": {},
   "outputs": [],
   "source": [
    "con = duckdb.connect(database='dados_duckdb.db', read_only=False)"
   ]
  },
  {
   "cell_type": "code",
   "execution_count": null,
   "id": "5116fab6",
   "metadata": {},
   "outputs": [],
   "source": [
    "df = con.execute(\"\"\"\n",
    "                 SELECT *\n",
    "                 FROM (\n",
    "                    SELECT *, ROW_NUMBER() OVER (PARTITION BY NATBR ORDER BY data_ingestao DESC) AS rn \n",
    "                    FROM bronze_z0019\n",
    "                    WHERE data_ingestao >= '2025-01-11'\n",
    "                 ) WHERE rn = 1\n",
    "                 \"\"\").fetchdf()\n",
    "df.head()"
   ]
  },
  {
   "cell_type": "code",
   "execution_count": null,
   "id": "5a3f94d2",
   "metadata": {},
   "outputs": [],
   "source": [
    "df_final = df.drop(columns=['nome_arquivo','data_ingestao','rn'])\n",
    "df_final = df_final.rename(columns={\"NATBR\": \"id\",\n",
    "                                   \"MAKTX\": \"nm_produto\",\n",
    "                                   \"WERKS\": \"id_categoria\",\n",
    "                                   \"MAINS\": \"id_fornecedor\",\n",
    "                                   \"LABST\": \"vl_preco\"\n",
    "                                   })\n",
    "df_final.head()"
   ]
  },
  {
   "cell_type": "code",
   "execution_count": null,
   "id": "f845e21b",
   "metadata": {},
   "outputs": [],
   "source": [
    "df2 = df_final\n",
    "df2.dtypes\n"
   ]
  },
  {
   "cell_type": "code",
   "execution_count": null,
   "id": "f2ffb416",
   "metadata": {},
   "outputs": [],
   "source": [
    "df2 = df2.astype({\n",
    "    'id': 'int32',\n",
    "    'nm_produto': 'string',\n",
    "    'id_categoria': 'string',\n",
    "    'id_fornecedor': 'int32',\n",
    "    'vl_preco': 'float32'\n",
    "})\n",
    "df2 = df2.astype({\n",
    "    'id': int,\n",
    "    'nm_produto': str,\n",
    "    'id_categoria': str,\n",
    "    'id_fornecedor': int,\n",
    "    'vl_preco': float\n",
    "})\n",
    "# df2.head()\n",
    "df2.dtypes"
   ]
  },
  {
   "cell_type": "code",
   "execution_count": null,
   "id": "9fb2d4cd",
   "metadata": {},
   "outputs": [],
   "source": [
    "con.execute(\"\"\"\n",
    "            CREATE TABLE IF NOT EXISTS produtos (\n",
    "                id bigint, \n",
    "                nm_produto text, \n",
    "                id_categoria text, \n",
    "                id_fornecedor bigint,\n",
    "                vl_preco float\n",
    "            )\n",
    "            \"\"\")"
   ]
  },
  {
   "cell_type": "code",
   "execution_count": null,
   "id": "fe53b7aa",
   "metadata": {},
   "outputs": [],
   "source": [
    "con.execute(\"INSERT INTO produtos SELECT * FROM df2\")"
   ]
  },
  {
   "cell_type": "code",
   "execution_count": null,
   "id": "2633d12b",
   "metadata": {},
   "outputs": [],
   "source": [
    "df2.head()"
   ]
  },
  {
   "cell_type": "code",
   "execution_count": null,
   "id": "4e7e8125",
   "metadata": {},
   "outputs": [],
   "source": [
    "df_resultado = con.execute(\"select * from produtos\").fetchdf()\n",
    "df_resultado.head()"
   ]
  },
  {
   "cell_type": "code",
   "execution_count": null,
   "id": "d2670750",
   "metadata": {},
   "outputs": [],
   "source": [
    "con.close()"
   ]
  }
 ],
 "metadata": {
  "kernelspec": {
   "display_name": "base",
   "language": "python",
   "name": "python3"
  },
  "language_info": {
   "codemirror_mode": {
    "name": "ipython",
    "version": 3
   },
   "file_extension": ".py",
   "mimetype": "text/x-python",
   "name": "python",
   "nbconvert_exporter": "python",
   "pygments_lexer": "ipython3",
   "version": "3.12.7"
  }
 },
 "nbformat": 4,
 "nbformat_minor": 5
}
