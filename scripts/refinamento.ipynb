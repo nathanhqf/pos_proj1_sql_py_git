{
 "cells": [
  {
   "cell_type": "code",
   "execution_count": null,
   "id": "82534cfa",
   "metadata": {},
   "outputs": [],
   "source": [
    "import duckdb"
   ]
  },
  {
   "cell_type": "code",
   "execution_count": null,
   "id": "d9fc64cd",
   "metadata": {},
   "outputs": [],
   "source": [
    "con = duckdb.connect(database='dados_duckdb.db', read_only=False)"
   ]
  },
  {
   "cell_type": "code",
   "execution_count": null,
   "id": "76286f88",
   "metadata": {},
   "outputs": [],
   "source": [
    "df = con.execute(\"select * from produtos\").fetchdf()\n",
    "df.head()"
   ]
  },
  {
   "cell_type": "code",
   "execution_count": null,
   "id": "24605317",
   "metadata": {},
   "outputs": [],
   "source": [
    "df2 = df.drop(columns=['id_categoria', 'id_fornecedor'])\n",
    "df2.head()"
   ]
  },
  {
   "cell_type": "code",
   "execution_count": null,
   "id": "7d9fe511",
   "metadata": {},
   "outputs": [],
   "source": [
    "con.execute(\"\"\"\n",
    "            CREATE TABLE IF NOT EXISTS dim_produtos (\n",
    "            id_produto bigint, \n",
    "            nm_produto varchar,\n",
    "            vl_produto float\n",
    "            )\n",
    "            \"\"\"\n",
    ")"
   ]
  },
  {
   "cell_type": "code",
   "execution_count": null,
   "id": "4ced1e6c",
   "metadata": {},
   "outputs": [],
   "source": [
    "con.execute(\"INSERT INTO dim_produtos SELECT * FROM df2\")"
   ]
  },
  {
   "cell_type": "code",
   "execution_count": null,
   "id": "188eeaf3",
   "metadata": {},
   "outputs": [],
   "source": [
    "df_din = con.execute(\"select * from dim_produtos\").fetchdf()\n",
    "df_din.head()"
   ]
  },
  {
   "cell_type": "code",
   "execution_count": null,
   "id": "3f9a0a77",
   "metadata": {},
   "outputs": [],
   "source": [
    "con.close()"
   ]
  }
 ],
 "metadata": {
  "kernelspec": {
   "display_name": "base",
   "language": "python",
   "name": "python3"
  },
  "language_info": {
   "codemirror_mode": {
    "name": "ipython",
    "version": 3
   },
   "file_extension": ".py",
   "mimetype": "text/x-python",
   "name": "python",
   "nbconvert_exporter": "python",
   "pygments_lexer": "ipython3",
   "version": "3.12.7"
  }
 },
 "nbformat": 4,
 "nbformat_minor": 5
}
